{
 "cells": [
  {
   "cell_type": "code",
   "execution_count": 1,
   "metadata": {},
   "outputs": [],
   "source": [
    "def intersect(liste1, liste2):\n",
    "    n=0\n",
    "    for elt in liste1:\n",
    "        if elt in liste2:\n",
    "            n=n+1\n",
    "    return n"
   ]
  },
  {
   "cell_type": "code",
   "execution_count": 2,
   "metadata": {},
   "outputs": [],
   "source": [
    "def lieucomp(lieu1, lieu2):\n",
    "    if(lieu1==lieu2):\n",
    "        return 1\n",
    "    else:\n",
    "        return 0"
   ]
  },
  {
   "cell_type": "code",
   "execution_count": 3,
   "metadata": {},
   "outputs": [],
   "source": [
    "def datecomp(d1, d2):\n",
    "    if(d1-d2)>360:\n",
    "        return 0\n",
    "    elif (d1-d2)>180:\n",
    "        return 0.25\n",
    "    elif (d1-d2)>90:\n",
    "        return 0.5\n",
    "    elif (d1-d2)>30:\n",
    "        return 0.75\n",
    "    else:\n",
    "        return 1"
   ]
  },
  {
   "cell_type": "code",
   "execution_count": 4,
   "metadata": {},
   "outputs": [],
   "source": [
    "def _remove_punctuation(text):\n",
    "\n",
    "    \"\"\"\n",
    "    Removes the characters:\n",
    "    !\\\"#$%&'()*+,-./:;<=>?@[\\]^_`{|}~0123456789\n",
    "    from the text.\n",
    "    \"\"\"\n",
    "\n",
    "    chars_to_remove = \"!\\\"#$%&'()*+,-./:;<=>?@[\\]^_`{|}~0123456789\"\n",
    "\n",
    "    tr = str.maketrans(\"\", \"\", chars_to_remove)\n",
    "\n",
    "    return text.translate(tr)"
   ]
  },
  {
   "cell_type": "code",
   "execution_count": 13,
   "metadata": {},
   "outputs": [],
   "source": [
    "import xlrd\n",
    "import pandas\n",
    "\n",
    "d_j = pandas.read_excel(\"jobs0.xlsx\")\n",
    "d_u = pandas.read_excel(\"apps.xlsx\")\n",
    "\n",
    "df_uid = d_u[d_u.columns[0]]\n",
    "df_jid = d_u[d_u.columns[4]]\n",
    "\n",
    "df_list_id = d_j[d_j.columns[0]]\n",
    "df_list_desc = d_j[d_j.columns[3]]\n",
    "df_list_lieu = d_j[d_j.columns[5]]\n",
    "df_list_date = d_j[d_j.columns[9]]\n",
    "\n"
   ]
  },
  {
   "cell_type": "code",
   "execution_count": 25,
   "metadata": {},
   "outputs": [
    {
     "name": "stdout",
     "output_type": "stream",
     "text": [
      "300387\n"
     ]
    }
   ],
   "source": [
    "jobs_desc=[]\n",
    "jobs_id = []\n",
    "jobs_lieu = []\n",
    "jobs_date = []\n",
    "i=0\n",
    "for desc in df_list_desc:\n",
    "    jobs_desc.append(_remove_punctuation(desc))\n",
    "    jobs_id.append(df_list_id[i])\n",
    "    jobs_lieu.append(df_list_lieu[i])\n",
    "    jobs_date.append(df_list_date[i])\n",
    "    i=i+1\n",
    "    \n",
    "print(len(jobs_desc))"
   ]
  },
  {
   "cell_type": "code",
   "execution_count": 15,
   "metadata": {},
   "outputs": [
    {
     "ename": "TypeError",
     "evalue": "sparse matrix length is ambiguous; use getnnz() or shape[0]",
     "output_type": "error",
     "traceback": [
      "\u001b[0;31m---------------------------------------------------------------------------\u001b[0m",
      "\u001b[0;31mTypeError\u001b[0m                                 Traceback (most recent call last)",
      "\u001b[0;32m<ipython-input-15-0c2ed50d35ac>\u001b[0m in \u001b[0;36m<module>\u001b[0;34m\u001b[0m\n\u001b[1;32m      3\u001b[0m \u001b[0mX\u001b[0m \u001b[0;34m=\u001b[0m \u001b[0mvectorizer\u001b[0m\u001b[0;34m.\u001b[0m\u001b[0mfit\u001b[0m\u001b[0;34m(\u001b[0m\u001b[0mjobs_desc\u001b[0m\u001b[0;34m)\u001b[0m\u001b[0;34m\u001b[0m\u001b[0;34m\u001b[0m\u001b[0m\n\u001b[1;32m      4\u001b[0m \u001b[0mjobs_desc_vec\u001b[0m \u001b[0;34m=\u001b[0m \u001b[0mX\u001b[0m\u001b[0;34m.\u001b[0m\u001b[0mtransform\u001b[0m\u001b[0;34m(\u001b[0m\u001b[0mjobs_desc\u001b[0m\u001b[0;34m)\u001b[0m\u001b[0;34m\u001b[0m\u001b[0;34m\u001b[0m\u001b[0m\n\u001b[0;32m----> 5\u001b[0;31m \u001b[0mprint\u001b[0m\u001b[0;34m(\u001b[0m\u001b[0mlen\u001b[0m\u001b[0;34m(\u001b[0m\u001b[0mjobs_desc_vec\u001b[0m\u001b[0;34m[\u001b[0m\u001b[0;36m1\u001b[0m\u001b[0;34m]\u001b[0m\u001b[0;34m)\u001b[0m\u001b[0;34m)\u001b[0m\u001b[0;34m\u001b[0m\u001b[0;34m\u001b[0m\u001b[0m\n\u001b[0m",
      "\u001b[0;32m~/anaconda3/lib/python3.7/site-packages/scipy/sparse/base.py\u001b[0m in \u001b[0;36m__len__\u001b[0;34m(self)\u001b[0m\n\u001b[1;32m    293\u001b[0m     \u001b[0;31m# non-zeros is more important.  For now, raise an exception!\u001b[0m\u001b[0;34m\u001b[0m\u001b[0;34m\u001b[0m\u001b[0;34m\u001b[0m\u001b[0m\n\u001b[1;32m    294\u001b[0m     \u001b[0;32mdef\u001b[0m \u001b[0m__len__\u001b[0m\u001b[0;34m(\u001b[0m\u001b[0mself\u001b[0m\u001b[0;34m)\u001b[0m\u001b[0;34m:\u001b[0m\u001b[0;34m\u001b[0m\u001b[0;34m\u001b[0m\u001b[0m\n\u001b[0;32m--> 295\u001b[0;31m         raise TypeError(\"sparse matrix length is ambiguous; use getnnz()\"\n\u001b[0m\u001b[1;32m    296\u001b[0m                         \" or shape[0]\")\n\u001b[1;32m    297\u001b[0m \u001b[0;34m\u001b[0m\u001b[0m\n",
      "\u001b[0;31mTypeError\u001b[0m: sparse matrix length is ambiguous; use getnnz() or shape[0]"
     ]
    }
   ],
   "source": [
    "from sklearn.feature_extraction.text import TfidfVectorizer\n",
    "vectorizer = TfidfVectorizer(max_features=7000)\n",
    "X = vectorizer.fit(jobs_desc)\n",
    "jobs_desc_vec = X.transform(jobs_desc)\n"
   ]
  },
  {
   "cell_type": "code",
   "execution_count": 23,
   "metadata": {},
   "outputs": [],
   "source": [
    "df = pandas.read_excel(\"apps.xlsx\")\n",
    "df_uid = df[df.columns[0]]\n",
    "df_jid = df[df.columns[4]]\n",
    "\n",
    "CoApps = {}\n",
    "\n",
    "\n",
    "Uid = df_uid[0]\n",
    "i=0\n",
    "liste_jid = []\n",
    "for index, row in df.iterrows():\n",
    "    if Uid == df_uid[i]:\n",
    "        liste_jid.append(df_jid[i])\n",
    "        i=i+1\n",
    "    else:\n",
    "        CoApps[Uid]=liste_jid\n",
    "        Uid=df_uid[i]\n",
    "        liste_jid=[]\n",
    "    "
   ]
  },
  {
   "cell_type": "code",
   "execution_count": null,
   "metadata": {},
   "outputs": [],
   "source": [
    "CoUpps = {}\n",
    "\n",
    "for jid in jobs_id:\n",
    "    liste_uid=[]\n",
    "    for k in CoApps.keys():\n",
    "        if jid in CoApps[k]:\n",
    "            liste_uid.append(k)\n",
    "    CoUpps[jid]=liste_uid\n",
    "            "
   ]
  },
  {
   "cell_type": "code",
   "execution_count": null,
   "metadata": {},
   "outputs": [],
   "source": []
  },
  {
   "cell_type": "code",
   "execution_count": null,
   "metadata": {},
   "outputs": [],
   "source": [
    "import matplotlib.pyplot as plt\n",
    "import networkx as nx\n",
    "\n",
    "G1 = nx.Graph()\n",
    "from scipy.sparse.csr_matrix import toarray\n",
    "\n",
    "fichier = open(\"Fichier_sortie.txt\", \"w\")\n",
    "k=0\n",
    "for i in jobs_id:\n",
    "    l=0\n",
    "    for j in jobs_id:\n",
    "        f1= 1 - spatial.distance.cosine(jobs_desc_vec[k].toarray(), jobs_desc_vec[l].toarray())\n",
    "        f2= intersect(CoUpps[i], CoUpps[j])\n",
    "        f3= datecomp(jobs_date[k], jobs_date[l])\n",
    "        f4= lieucomp(jobs_lieu[k], jobs_lieu[l])\n",
    "        \n",
    "        fichier.write(str((i,j)) + str(f1) + str(f2) + str(f3) + str(f4))\n",
    "        w = 0.25 * f1 + 0.25 * f2 + 0.25 * f3 + 0.25 * f4\n",
    "        if(w>0.6 and i!=j):\n",
    "            G1.add_edge(i, j, weight=w)\n",
    "        l=l+1\n",
    "    k=k+1"
   ]
  },
  {
   "cell_type": "code",
   "execution_count": null,
   "metadata": {},
   "outputs": [],
   "source": []
  },
  {
   "cell_type": "code",
   "execution_count": 3,
   "metadata": {},
   "outputs": [
    {
     "name": "stdout",
     "output_type": "stream",
     "text": [
      "[[0.51807421]]\n"
     ]
    }
   ],
   "source": [
    "\n"
   ]
  },
  {
   "cell_type": "code",
   "execution_count": 4,
   "metadata": {},
   "outputs": [
    {
     "name": "stdout",
     "output_type": "stream",
     "text": [
      "0.5180742102012611\n"
     ]
    }
   ],
   "source": [
    "\n"
   ]
  },
  {
   "cell_type": "code",
   "execution_count": null,
   "metadata": {},
   "outputs": [],
   "source": []
  }
 ],
 "metadata": {
  "kernelspec": {
   "display_name": "Python 3 (ipykernel)",
   "language": "python",
   "name": "python3"
  },
  "language_info": {
   "codemirror_mode": {
    "name": "ipython",
    "version": 3
   },
   "file_extension": ".py",
   "mimetype": "text/x-python",
   "name": "python",
   "nbconvert_exporter": "python",
   "pygments_lexer": "ipython3",
   "version": "3.11.7"
  }
 },
 "nbformat": 4,
 "nbformat_minor": 4
}
